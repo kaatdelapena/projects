{
 "cells": [
  {
   "cell_type": "code",
   "execution_count": 7,
   "metadata": {},
   "outputs": [
    {
     "name": "stdout",
     "output_type": "stream",
     "text": [
      "Enter program data:\n",
      "Total applicants: 300\n",
      "% who geo signaled: 20\n",
      "% who program signaled: 51\n",
      "% who are IMGs: 41\n",
      "Total invited: 20\n",
      "% of interviewees who geo signaled: 13\n",
      "% of interviewees who program signaled: 15\n",
      "% of interviewees who are IMGs: 6\n",
      "\n",
      "📊 Results:\n",
      "Geo + IMG Interview Rate: 0.63%\n",
      "Program + IMG Interview Rate: 0.29%\n",
      "Program Signal Efficiency (vs IMG baseline): -0.69%\n",
      "Geo Signal Efficiency (vs IMG baseline): -0.34%\n",
      "Combined Signal Efficiency: 2.17%\n"
     ]
    }
   ],
   "source": [
    "def format_rate(rate):\n",
    "    return f\"{rate:.2%}\" if rate is not None else \"N/A\"\n",
    "\n",
    "def estimate_efficiency():\n",
    "    print(\"Enter program data:\")\n",
    "    total_app = float(input(\"Total applicants: \"))\n",
    "    geo_pct = float(input(\"% who geo signaled: \")) / 100\n",
    "    prog_pct = float(input(\"% who program signaled: \")) / 100\n",
    "    img_pct = float(input(\"% who are IMGs: \")) / 100\n",
    "\n",
    "    total_invited = float(input(\"Total invited: \"))\n",
    "    geo_inv_pct = float(input(\"% of interviewees who geo signaled: \")) / 100\n",
    "    prog_inv_pct = float(input(\"% of interviewees who program signaled: \")) / 100\n",
    "    img_inv_pct = float(input(\"% of interviewees who are IMGs: \")) / 100\n",
    "\n",
    "    # Raw counts\n",
    "    n_img_app = total_app * img_pct\n",
    "    n_img_inv = total_invited * img_inv_pct\n",
    "    n_prog_app = total_app * prog_pct\n",
    "    n_prog_inv = total_invited * prog_inv_pct\n",
    "    n_geo_app = total_app * geo_pct\n",
    "    n_geo_inv = total_invited * geo_inv_pct\n",
    "\n",
    "    # Overlap estimates (assuming independence for simplicity)\n",
    "    n_geo_img_app = total_app * geo_pct * img_pct\n",
    "    n_geo_img_inv = total_invited * geo_inv_pct * img_inv_pct\n",
    "\n",
    "    n_prog_img_app = total_app * prog_pct * img_pct\n",
    "    n_prog_img_inv = total_invited * prog_inv_pct * img_inv_pct\n",
    "\n",
    "    # Rates\n",
    "    rate_img = n_img_inv / n_img_app if n_img_app else None\n",
    "    rate_prog = n_prog_inv / n_prog_app if n_prog_app else None\n",
    "    rate_geo = n_geo_inv / n_geo_app if n_geo_app else None\n",
    "    rate_geo_img = n_geo_img_inv / n_geo_img_app if n_geo_img_app else None\n",
    "    rate_prog_img = n_prog_img_inv / n_prog_img_app if n_prog_img_app else None\n",
    "\n",
    "    # Efficiencies\n",
    "    eff_prog_img = rate_prog_img - rate_img if rate_prog_img and rate_img else None\n",
    "    eff_geo_img = rate_geo_img - rate_img if rate_geo_img and rate_img else None\n",
    "    eff_combined = ((rate_prog + rate_geo)/2 - rate_img) if all([rate_prog, rate_geo, rate_img]) else None\n",
    "\n",
    "#Output\n",
    "\n",
    "    print(\"\\n📊 Results:\")\n",
    "    print(f\"Geo + IMG Interview Rate: {format_rate(rate_geo_img)}\")\n",
    "    print(f\"Program + IMG Interview Rate: {format_rate(rate_prog_img)}\")\n",
    "    print(f\"Program Signal Efficiency (vs IMG baseline): {format_rate(eff_prog_img)}\")\n",
    "    print(f\"Geo Signal Efficiency (vs IMG baseline): {format_rate(eff_geo_img)}\")\n",
    "    print(f\"Combined Signal Efficiency: {format_rate(eff_combined)}\")\n",
    "estimate_efficiency()"
   ]
  }
 ],
 "metadata": {
  "kernelspec": {
   "display_name": "Python 3",
   "language": "python",
   "name": "python3"
  },
  "language_info": {
   "codemirror_mode": {
    "name": "ipython",
    "version": 3
   },
   "file_extension": ".py",
   "mimetype": "text/x-python",
   "name": "python",
   "nbconvert_exporter": "python",
   "pygments_lexer": "ipython3",
   "version": "3.7.6"
  }
 },
 "nbformat": 4,
 "nbformat_minor": 4
}
